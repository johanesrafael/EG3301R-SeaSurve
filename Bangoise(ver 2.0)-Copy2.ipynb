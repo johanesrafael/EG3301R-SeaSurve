{
 "cells": [
  {
   "cell_type": "code",
   "execution_count": 1,
   "id": "9d220f21",
   "metadata": {},
   "outputs": [],
   "source": [
    "# import necessary library for data extraction and processing\n",
    "import numpy as np\n",
    "import pandas as pd\n",
    "from numpy.linalg import inv\n",
    "import matplotlib as plt\n",
    "import os\n",
    "\n",
    "from sklearn.model_selection import train_test_split\n",
    "from sklearn.preprocessing import PolynomialFeatures\n",
    "from sklearn.metrics import accuracy_score"
   ]
  },
  {
   "cell_type": "code",
   "execution_count": null,
   "id": "946014c2",
   "metadata": {},
   "outputs": [],
   "source": []
  },
  {
   "cell_type": "code",
   "execution_count": 2,
   "id": "b24469b2",
   "metadata": {},
   "outputs": [],
   "source": [
    "# Path to the excel data\n",
    "hz_20_path =  r\"D:/Telegram Files/20/\"  \n",
    "hz_15_path =  r\"D:/Telegram Files/15/\"  \n",
    "# read file function\n",
    "def read_file(_path):\n",
    "    os.chdir(_path)\n",
    "    temp_data = pd.DataFrame()\n",
    "    #print(temp_data)\n",
    "    for file in os.listdir():\n",
    "        if file.endswith('.xls'):\n",
    "            file_path = f\"{_path}{file}\"\n",
    "            data = pd.read_excel(file_path)\n",
    "            data.columns = [s for s in range(0,25)]\n",
    "            temp_data = pd.concat([temp_data, data])           #print(file_path)\n",
    "            #print(data)\n",
    "    \n",
    "    return temp_data\n",
    "\n",
    "# prepare the data\n",
    "hz_20 = read_file(hz_20_path)\n",
    "hz_15 = read_file(hz_15_path)"
   ]
  },
  {
   "cell_type": "code",
   "execution_count": 3,
   "id": "fd42044d",
   "metadata": {},
   "outputs": [],
   "source": [
    "# Create Data frame for each data\n",
    "twenty = pd.DataFrame(hz_20)\n",
    "fifteen = pd.DataFrame(hz_15)\n",
    "\n",
    "# Label the data\n",
    "twenty[\"Labeled\"] = -1\n",
    "fifteen[\"Labeled\"] = 1\n",
    "\n",
    "# combine the data \n",
    "data_joined = pd.concat([twenty, fifteen], ignore_index = True)"
   ]
  },
  {
   "cell_type": "code",
   "execution_count": 4,
   "id": "be937e26",
   "metadata": {},
   "outputs": [],
   "source": [
    "# separate the data into X, which contains the individual value of 25 frequency points and Y, which contains labeled\n",
    "X = data_joined.loc[:,0:24] \n",
    "Y = data_joined.loc[:,'Labeled']"
   ]
  },
  {
   "cell_type": "code",
   "execution_count": 5,
   "id": "58f0f08a",
   "metadata": {},
   "outputs": [],
   "source": [
    "# set the order as 2 \n",
    "order = 3\n",
    "\n",
    "poly = PolynomialFeatures(order)"
   ]
  },
  {
   "cell_type": "code",
   "execution_count": 6,
   "id": "c6938327",
   "metadata": {},
   "outputs": [],
   "source": [
    "average_accuracy = 0"
   ]
  },
  {
   "cell_type": "code",
   "execution_count": 9,
   "id": "ecce4f51",
   "metadata": {},
   "outputs": [
    {
     "name": "stdout",
     "output_type": "stream",
     "text": [
      "(2438, 3276)\n",
      "(2438, 3276)\n",
      "(2438, 3276)\n",
      "(2438, 3276)\n",
      "(2438, 3276)\n",
      "(2438, 3276)\n",
      "(2438, 3276)\n",
      "(2438, 3276)\n",
      "(2438, 3276)\n",
      "(2438, 3276)\n",
      "(2438, 3276)\n",
      "(2438, 3276)\n",
      "(2438, 3276)\n",
      "(2438, 3276)\n",
      "(2438, 3276)\n",
      "(2438, 3276)\n",
      "(2438, 3276)\n",
      "(2438, 3276)\n",
      "(2438, 3276)\n",
      "(2438, 3276)\n"
     ]
    }
   ],
   "source": [
    "for i in range(0,20):\n",
    "    X_train,X_test,Y_train,Y_test = train_test_split(X, Y, test_size=0.3)\n",
    "\n",
    "    P_1 = poly.fit_transform(X_train) \n",
    "    \n",
    "    reg1 = 0.0001*np.identity(P_1.shape[1])\n",
    "    #w_dual_ridge1 = P_1.T @(inv(P_1@P_1.T + reg1)) @ Y_train\n",
    "    w_dual_ridge1 = (inv(P_1.T@P_1 + reg1)) @ P_1.T @ Y_train\n",
    "    print(P_1.shape)\n",
    "    P_test = poly.fit_transform(X_test)\n",
    "    y_pred = P_test @ w_dual_ridge1\n",
    "    \n",
    "    y_pred_sorted = []\n",
    "\n",
    "    for i in y_pred:\n",
    "        if i < 0:\n",
    "            y_pred_sorted.append(-1)\n",
    "\n",
    "        else:\n",
    "            y_pred_sorted.append(1)\n",
    "            \n",
    "    average_accuracy += accuracy_score(y_pred_sorted,Y_test)"
   ]
  },
  {
   "cell_type": "code",
   "execution_count": 27,
   "id": "351259ab",
   "metadata": {},
   "outputs": [],
   "source": [
    "average_accuracy /= 20\n",
    "       "
   ]
  },
  {
   "cell_type": "code",
   "execution_count": 28,
   "id": "a40d028d",
   "metadata": {},
   "outputs": [
    {
     "data": {
      "text/plain": [
       "0.9518164435946461"
      ]
     },
     "execution_count": 28,
     "metadata": {},
     "output_type": "execute_result"
    }
   ],
   "source": [
    "average_accuracy"
   ]
  },
  {
   "cell_type": "code",
   "execution_count": 16,
   "id": "a80c84a5",
   "metadata": {},
   "outputs": [
    {
     "name": "stdout",
     "output_type": "stream",
     "text": [
      "(2438, 351)\n"
     ]
    }
   ],
   "source": [
    "X_train,X_test,Y_train,Y_test = train_test_split(X, Y, test_size=0.3)\n",
    "\n",
    "P_1 = poly.fit_transform(X_train) \n",
    "\n",
    "reg1 = 0.0001*np.identity(P_1.shape[1])\n",
    "#w_dual_ridge1 = P_1.T @(inv(P_1@P_1.T + reg1)) @ Y_train\n",
    "w_dual_ridge1 = (inv(P_1.T@P_1 + reg1)) @ P_1.T @ Y_train\n",
    "print(P_1.shape)\n",
    "P_test = poly.fit_transform(X_test)\n",
    "y_pred = P_test @ w_dual_ridge1\n",
    "\n",
    "y_pred_sorted = []\n",
    "\n",
    "for i in y_pred:\n",
    "    if i < 0:\n",
    "        y_pred_sorted.append(-1)\n",
    "\n",
    "    else:\n",
    "        y_pred_sorted.append(1)"
   ]
  },
  {
   "cell_type": "code",
   "execution_count": 17,
   "id": "5d516e50",
   "metadata": {},
   "outputs": [],
   "source": [
    "acc = accuracy_score(y_pred_sorted,Y_test)"
   ]
  },
  {
   "cell_type": "code",
   "execution_count": 18,
   "id": "fb3ba94a",
   "metadata": {},
   "outputs": [
    {
     "data": {
      "text/plain": [
       "0.9493307839388145"
      ]
     },
     "execution_count": 18,
     "metadata": {},
     "output_type": "execute_result"
    }
   ],
   "source": [
    "acc"
   ]
  },
  {
   "cell_type": "code",
   "execution_count": 20,
   "id": "c3ac19f1",
   "metadata": {},
   "outputs": [
    {
     "name": "stdout",
     "output_type": "stream",
     "text": [
      "(2438, 351)\n"
     ]
    }
   ],
   "source": [
    "X_train,X_test,Y_train,Y_test = train_test_split(X, Y, test_size=0.3)\n",
    "\n",
    "P_1 = poly.fit_transform(X_train) \n",
    "\n",
    "reg1 = 0.0001*np.identity(P_1.shape[0])\n",
    "w_dual_ridge1 = P_1.T @(inv(P_1@P_1.T + reg1)) @ Y_train\n",
    "#w_dual_ridge1 = (inv(P_1.T@P_1 + reg1)) @ P_1.T @ Y_train\n",
    "print(P_1.shape)\n",
    "P_test = poly.fit_transform(X_test)\n",
    "y_pred = P_test @ w_dual_ridge1\n",
    "\n",
    "y_pred_sorted = []\n",
    "\n",
    "for i in y_pred:\n",
    "    if i < 0:\n",
    "        y_pred_sorted.append(-1)\n",
    "\n",
    "    else:\n",
    "        y_pred_sorted.append(1)"
   ]
  },
  {
   "cell_type": "code",
   "execution_count": 21,
   "id": "3f35290a",
   "metadata": {},
   "outputs": [],
   "source": [
    "acc = accuracy_score(y_pred_sorted,Y_test)"
   ]
  },
  {
   "cell_type": "code",
   "execution_count": 22,
   "id": "80731803",
   "metadata": {},
   "outputs": [
    {
     "data": {
      "text/plain": [
       "0.5267686424474187"
      ]
     },
     "execution_count": 22,
     "metadata": {},
     "output_type": "execute_result"
    }
   ],
   "source": [
    "acc"
   ]
  },
  {
   "cell_type": "code",
   "execution_count": null,
   "id": "94fc18c2",
   "metadata": {},
   "outputs": [],
   "source": []
  }
 ],
 "metadata": {
  "kernelspec": {
   "display_name": "Python 3",
   "language": "python",
   "name": "python3"
  },
  "language_info": {
   "codemirror_mode": {
    "name": "ipython",
    "version": 3
   },
   "file_extension": ".py",
   "mimetype": "text/x-python",
   "name": "python",
   "nbconvert_exporter": "python",
   "pygments_lexer": "ipython3",
   "version": "3.8.8"
  }
 },
 "nbformat": 4,
 "nbformat_minor": 5
}
